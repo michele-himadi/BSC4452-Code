{
 "cells": [
  {
   "cell_type": "code",
   "execution_count": 148,
   "id": "c7295a92-4386-4bcd-9836-38af1d4d16a5",
   "metadata": {},
   "outputs": [
    {
     "name": "stdout",
     "output_type": "stream",
     "text": [
      "the most fastest rise in water level was 0.6400000000000006 on this date  2018-10-10 17:42\n"
     ]
    }
   ],
   "source": [
    "#define dataset\n",
    "data = open('/blue/bsc4452/michele.himadi/Class_Files/data/CO-OPS__8729108__wl.csv')\n",
    "wtr_avgmax = 0\n",
    "previous = 2.421\n",
    "    #first value\n",
    "wtr_maxlimit = []\n",
    "    \n",
    "for answers in data:\n",
    "    delimiter = ','\n",
    "        #defining the delimiter\n",
    "    line = answers.split(delimiter)\n",
    "    try:\n",
    "        current = float(line[1])\n",
    "    except:\n",
    "        continue\n",
    "    wtr_chng = current - previous\n",
    "    previous = current\n",
    "    if wtr_chng > wtr_avgmax:\n",
    "        wtr_avgmax = wtr_chng\n",
    "    if wtr_chng < 0.64:   \n",
    "        continue \n",
    "    else:\n",
    "        break\n",
    "\n",
    "print('the most fastest rise in water level was' , wtr_avgmax ,'on this date ', line[0])\n",
    "   \n",
    "    \n",
    "#this answer should be 0.64... on 2018-10-10 17:42\n",
    "\n",
    "#**a note about the if wtr_chng < 0.64 line**\n",
    "    #if there isn't a max value, wtr_avgmax will continue printing 0.64 and the data will be offset to the last date\n",
    "    #ideally I would've configured a way to stop the function once a max value has been reached\n",
    "    #however that was a little out of my scope of Python knowledge, but I did write \"wtr_maxlimit.append(wtr_avgmax)\" \n",
    "        #to make a list of values that don't repeat\n",
    "    #for now this code was run, configured, and debugged using the answer that the code found after being run instead\n",
    "    #i.e. I ran it, found the max number should be 0.64, and put the limiter there so the code will stop running once that point is found\n",
    "        "
   ]
  },
  {
   "cell_type": "code",
   "execution_count": null,
   "id": "886ca41d-6d8a-480a-8a97-45820b095711",
   "metadata": {},
   "outputs": [],
   "source": []
  }
 ],
 "metadata": {
  "kernelspec": {
   "display_name": "UFRC Python-3.10",
   "language": "python",
   "name": "python3-3.10-ufrc"
  },
  "language_info": {
   "codemirror_mode": {
    "name": "ipython",
    "version": 3
   },
   "file_extension": ".py",
   "mimetype": "text/x-python",
   "name": "python",
   "nbconvert_exporter": "python",
   "pygments_lexer": "ipython3",
   "version": "3.10.5"
  }
 },
 "nbformat": 4,
 "nbformat_minor": 5
}
