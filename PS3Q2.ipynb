{
 "cells": [
  {
   "cell_type": "code",
   "execution_count": 3,
   "id": "c7295a92-4386-4bcd-9836-38af1d4d16a5",
   "metadata": {},
   "outputs": [
    {
     "name": "stdout",
     "output_type": "stream",
     "text": [
      "the max water level and the date is: 2018-10-10 18:06 | 6.647\n",
      "the min water level and the date is: 2018-10-11 15:36 | 1.621\n"
     ]
    }
   ],
   "source": [
    "#define dataset\n",
    "data = open('/blue/bsc4452/michele.himadi/Class_Files/data/CO-OPS__8729108__wl.csv')\n",
    "max_water = 0\n",
    "min_water = 100\n",
    "    #define min and max; max needs to be low and min needs to be high so the comparison > and < will work\n",
    "\n",
    "for answers in data:\n",
    "    delimiter = ','    #defining the delimiter\n",
    "    line = answers.split(delimiter)        #data\n",
    "    try:\n",
    "        mkfloat = float(line[1])        #want to make the water level time into a float number\n",
    "    except:\n",
    "        continue\n",
    "        #try to turn column 1 into a float, skip a line if issue (e.g. for header and blank data)\n",
    "    if mkfloat > max_water:\n",
    "        max_water = mkfloat\n",
    "        bothlines = line[0] + ' | ' + line[1]\n",
    "            #if one water level number is greater than the previous, set that max_water value and mkfloat equal to each other\n",
    "            #bothlines stores both columns to print\n",
    "    if mkfloat < min_water:\n",
    "        min_water = mkfloat\n",
    "        minwater = line[0] + ' | ' + line[1]\n",
    "            #if one water level number is greater than the previous, set that max_water value and mkfloat equal to each other\n",
    "            #minwater stores both columns to print\n",
    "print('the max water level and the date is: ' + bothlines)\n",
    "print('the min water level and the date is: ' + minwater)\n",
    "\n",
    "\n",
    "#the max should be 6.647 and min should be 1.621\n",
    "    "
   ]
  },
  {
   "cell_type": "code",
   "execution_count": 6,
   "id": "4b69ca26-bbed-4fe1-9099-c4059e527c62",
   "metadata": {},
   "outputs": [
    {
     "name": "stdout",
     "output_type": "stream",
     "text": [
      "the average water level is:  2.9823232044198904\n"
     ]
    }
   ],
   "source": [
    "data = open('/blue/bsc4452/michele.himadi/Class_Files/data/CO-OPS__8729108__wl.csv')\n",
    "water_sum = 0\n",
    "count = 0\n",
    "for answers in data:\n",
    "    delimiter = ','     #defining the delimiter\n",
    "    line = answers.split(delimiter)      #data\n",
    "    try:\n",
    "        mkfloat = float(line[1])\n",
    "    except:\n",
    "        continue\n",
    "            #try to turn column 1 into a float, skip a line if issue\n",
    "    water_sum = water_sum + mkfloat     #calculate the sum of all values\n",
    "    count = count + 1       #increase the count by 1 for every iteration of each line\n",
    "avg_water = water_sum/count\n",
    "print('the average water level is: ' , avg_water)\n",
    "\n",
    "\n",
    "#the average should be 2.98..."
   ]
  },
  {
   "cell_type": "code",
   "execution_count": 5,
   "id": "77bd2c0b-c67c-492b-901f-0d17819f635c",
   "metadata": {},
   "outputs": [
    {
     "name": "stdout",
     "output_type": "stream",
     "text": [
      "the average water level is:\n"
     ]
    },
    {
     "data": {
      "text/plain": [
       "2.9823232044198904"
      ]
     },
     "execution_count": 5,
     "metadata": {},
     "output_type": "execute_result"
    }
   ],
   "source": [
    "#this code is an alternative way to calculate water level average\n",
    "data = open('/blue/bsc4452/michele.himadi/Class_Files/data/CO-OPS__8729108__wl.csv')\n",
    "wtr_list = []\n",
    "count = 0\n",
    "for answers in data:\n",
    "    delimiter = ','     #defining the delimiter\n",
    "    line = answers.split(delimiter)    #data\n",
    "    try:\n",
    "        mkfloat = float(line[1])\n",
    "    except:\n",
    "        continue\n",
    "              #try to turn column 1 into a float, skip a line if issue\n",
    "    wtr_list.append(mkfloat)    #makes a \"legal\" Python list\n",
    "print('the average water level is:')\n",
    "sum(wtr_list)/len(wtr_list)\n",
    "    #now this function is able to work properly\n"
   ]
  }
 ],
 "metadata": {
  "kernelspec": {
   "display_name": "UFRC Python-3.10",
   "language": "python",
   "name": "python3-3.10-ufrc"
  },
  "language_info": {
   "codemirror_mode": {
    "name": "ipython",
    "version": 3
   },
   "file_extension": ".py",
   "mimetype": "text/x-python",
   "name": "python",
   "nbconvert_exporter": "python",
   "pygments_lexer": "ipython3",
   "version": "3.10.5"
  }
 },
 "nbformat": 4,
 "nbformat_minor": 5
}
