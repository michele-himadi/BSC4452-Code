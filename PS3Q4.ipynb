{
 "cells": [
  {
   "cell_type": "code",
   "execution_count": 26,
   "id": "c7295a92-4386-4bcd-9836-38af1d4d16a5",
   "metadata": {},
   "outputs": [
    {
     "name": "stdout",
     "output_type": "stream",
     "text": [
      "WARNING, water level has increased over 0.25 units from the previous date and time on 2018-10-10 17:30\n",
      "WARNING, water level has increased over 0.25 units from the previous date and time on 2018-10-10 17:36\n",
      "WARNING, water level has increased over 0.25 units from the previous date and time on 2018-10-10 17:42\n",
      "WARNING, water level is over 5.0 on 2018-10-10 17:42\n",
      "WARNING, water level has increased over 0.25 units from the previous date and time on 2018-10-10 17:48\n",
      "WARNING, water level is over 5.0 on 2018-10-10 17:48\n",
      "WARNING, water level has increased over 0.25 units from the previous date and time on 2018-10-10 17:54\n",
      "WARNING, water level is over 5.0 on 2018-10-10 17:54\n",
      "WARNING, water level is over 5.0 on 2018-10-10 18:00\n",
      "WARNING, water level is over 5.0 on 2018-10-10 18:06\n",
      "WARNING, water level is over 5.0 on 2018-10-10 18:12\n",
      "no data for 2018-10-10 18:18\n",
      "WARNING, water level is over 5.0 on 2018-10-10 18:24\n",
      "WARNING, water level is over 5.0 on 2018-10-10 18:30\n",
      "WARNING, water level is over 5.0 on 2018-10-10 18:36\n",
      "WARNING, water level is over 5.0 on 2018-10-10 18:42\n",
      "WARNING, water level is over 5.0 on 2018-10-10 18:48\n",
      "WARNING, water level is over 5.0 on 2018-10-10 18:54\n",
      "WARNING, water level is over 5.0 on 2018-10-10 19:00\n"
     ]
    }
   ],
   "source": [
    "#define dataset\n",
    "data = open('/blue/bsc4452/michele.himadi/Class_Files/data/CO-OPS__8729108__wl.csv')\n",
    "previous = 2.421\n",
    "    #first value\n",
    "    \n",
    "for answers in data:\n",
    "    delimiter = ','\n",
    "        #defining the delimiter\n",
    "    line = answers.split(delimiter)\n",
    "    try:\n",
    "         current = float(line[1])\n",
    "    except:\n",
    "        if line[1] == '':\n",
    "            print('no data for' , line[0])\n",
    "        continue\n",
    "    \n",
    "    if current - previous > 0.25:\n",
    "        print('WARNING, water level has increased over 0.25 units from the previous date and time on', line[0])\n",
    "    if current > 5.0:\n",
    "        print('WARNING, water level is over 5.0 on' , line[0])\n",
    "    \n",
    "    previous = current\n",
    "    \n",
    "#the answer should have exactly one \"no data\" line and should spit out the dates and times"
   ]
  }
 ],
 "metadata": {
  "kernelspec": {
   "display_name": "UFRC Python-3.10",
   "language": "python",
   "name": "python3-3.10-ufrc"
  },
  "language_info": {
   "codemirror_mode": {
    "name": "ipython",
    "version": 3
   },
   "file_extension": ".py",
   "mimetype": "text/x-python",
   "name": "python",
   "nbconvert_exporter": "python",
   "pygments_lexer": "ipython3",
   "version": "3.10.5"
  }
 },
 "nbformat": 4,
 "nbformat_minor": 5
}
